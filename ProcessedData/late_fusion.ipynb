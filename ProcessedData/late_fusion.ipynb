{
 "cells": [
  {
   "cell_type": "code",
   "execution_count": 5,
   "metadata": {
    "collapsed": false
   },
   "outputs": [
    {
     "ename": "ImportError",
     "evalue": "No module named 'xgboost'",
     "output_type": "error",
     "traceback": [
      "\u001b[1;31m---------------------------------------------------------------------------\u001b[0m",
      "\u001b[1;31mImportError\u001b[0m                               Traceback (most recent call last)",
      "\u001b[1;32m<ipython-input-5-d51a786bafb1>\u001b[0m in \u001b[0;36m<module>\u001b[1;34m()\u001b[0m\n\u001b[0;32m      1\u001b[0m \u001b[1;32mimport\u001b[0m \u001b[0mnumpy\u001b[0m \u001b[1;32mas\u001b[0m \u001b[0mnp\u001b[0m\u001b[1;33m\u001b[0m\u001b[0m\n\u001b[0;32m      2\u001b[0m \u001b[1;32mimport\u001b[0m \u001b[0mpandas\u001b[0m \u001b[1;32mas\u001b[0m \u001b[0mpd\u001b[0m\u001b[1;33m\u001b[0m\u001b[0m\n\u001b[1;32m----> 3\u001b[1;33m \u001b[1;32mimport\u001b[0m \u001b[0mxgboost\u001b[0m \u001b[1;32mas\u001b[0m \u001b[0mxgb\u001b[0m\u001b[1;33m\u001b[0m\u001b[0m\n\u001b[0m\u001b[0;32m      4\u001b[0m \u001b[1;32mfrom\u001b[0m \u001b[0msklearn\u001b[0m\u001b[1;33m.\u001b[0m\u001b[0mmodel_selection\u001b[0m \u001b[1;32mimport\u001b[0m \u001b[0mKFold\u001b[0m\u001b[1;33m\u001b[0m\u001b[0m\n\u001b[0;32m      5\u001b[0m \u001b[1;32mfrom\u001b[0m \u001b[0msklearn\u001b[0m\u001b[1;33m.\u001b[0m\u001b[0mmetrics\u001b[0m \u001b[1;32mimport\u001b[0m \u001b[0maccuracy_score\u001b[0m\u001b[1;33m\u001b[0m\u001b[0m\n",
      "\u001b[1;31mImportError\u001b[0m: No module named 'xgboost'"
     ]
    }
   ],
   "source": [
    "import numpy as np\n",
    "import pandas as pd\n",
    "import xgboost as xgb\n",
    "from sklearn.model_selection import KFold\n",
    "from sklearn.metrics import accuracy_score\n",
    "from sklearn import linear_model"
   ]
  },
  {
   "cell_type": "markdown",
   "metadata": {},
   "source": [
    "Read input Audio, Video, Transcript features. "
   ]
  },
  {
   "cell_type": "code",
   "execution_count": 6,
   "metadata": {
    "collapsed": false
   },
   "outputs": [],
   "source": [
    "opensmile_std_input_df = pd.read_excel(\"./Audio/open_face_accoustic_std.xlsx\")\n",
    "opensmile_mean_input_df = pd.read_excel(\"./Audio/open_face_accoustic_means.xlsx\")\n",
    "transcript_input_df = pd.read_csv(\"./Transcript/segment_annotation_transcript_features.csv\")\n",
    "video_max_df = pd.read_csv(\"./Video/feature_annotation_max.csv\")\n",
    "video_min_df = pd.read_csv(\"./Video/feature_annotation_min.csv\")\n",
    "video_mean_df = pd.read_csv(\"./Video/feature_annotation_mean.csv\")\n",
    "video_std_df = pd.read_csv(\"./Video/feature_annotation_sd.csv\")"
   ]
  },
  {
   "cell_type": "code",
   "execution_count": 7,
   "metadata": {
    "collapsed": false
   },
   "outputs": [
    {
     "name": "stdout",
     "output_type": "stream",
     "text": [
      "(1352, 78)\n",
      "(1352, 78)\n",
      "(1352, 16)\n",
      "(1352, 63)\n",
      "(1352, 63)\n",
      "(1352, 63)\n",
      "(1352, 63)\n"
     ]
    }
   ],
   "source": [
    "for input_df in [opensmile_std_input_df,opensmile_mean_input_df,transcript_input_df,video_max_df,video_min_df,video_mean_df,video_std_df]:\n",
    "    print(input_df.shape)"
   ]
  },
  {
   "cell_type": "code",
   "execution_count": 4,
   "metadata": {
    "collapsed": false
   },
   "outputs": [
    {
     "data": {
      "text/html": [
       "<div>\n",
       "<table border=\"1\" class=\"dataframe\">\n",
       "  <thead>\n",
       "    <tr style=\"text-align: right;\">\n",
       "      <th></th>\n",
       "      <th>video</th>\n",
       "      <th>laughter_start</th>\n",
       "      <th>laughter_end</th>\n",
       "      <th>laughter_value</th>\n",
       "      <th>start_segment_s</th>\n",
       "      <th>end_segment_s</th>\n",
       "      <th>start_segment_frame</th>\n",
       "      <th>end_segment_frame</th>\n",
       "      <th>number_of_words</th>\n",
       "      <th>number_of_elongated_words</th>\n",
       "      <th>number_of_continuous_segments</th>\n",
       "      <th>number_of_pauses</th>\n",
       "      <th>max_pause_time</th>\n",
       "      <th>min_pause_time</th>\n",
       "      <th>avg_pause_time</th>\n",
       "      <th>last_pause_length</th>\n",
       "    </tr>\n",
       "  </thead>\n",
       "  <tbody>\n",
       "    <tr>\n",
       "      <th>0</th>\n",
       "      <td>AndyWoodhull</td>\n",
       "      <td>5.0</td>\n",
       "      <td>8.0</td>\n",
       "      <td>1</td>\n",
       "      <td>0.0</td>\n",
       "      <td>5.0</td>\n",
       "      <td>1</td>\n",
       "      <td>150</td>\n",
       "      <td>13</td>\n",
       "      <td>6</td>\n",
       "      <td>2</td>\n",
       "      <td>1</td>\n",
       "      <td>1.70</td>\n",
       "      <td>0.84</td>\n",
       "      <td>1.2700</td>\n",
       "      <td>1.70</td>\n",
       "    </tr>\n",
       "    <tr>\n",
       "      <th>1</th>\n",
       "      <td>AndyWoodhull</td>\n",
       "      <td>10.0</td>\n",
       "      <td>12.0</td>\n",
       "      <td>1</td>\n",
       "      <td>8.0</td>\n",
       "      <td>10.0</td>\n",
       "      <td>241</td>\n",
       "      <td>300</td>\n",
       "      <td>4</td>\n",
       "      <td>1</td>\n",
       "      <td>0</td>\n",
       "      <td>0</td>\n",
       "      <td>0.00</td>\n",
       "      <td>0.00</td>\n",
       "      <td>0.0000</td>\n",
       "      <td>0.00</td>\n",
       "    </tr>\n",
       "    <tr>\n",
       "      <th>2</th>\n",
       "      <td>AndyWoodhull</td>\n",
       "      <td>20.0</td>\n",
       "      <td>21.0</td>\n",
       "      <td>1</td>\n",
       "      <td>12.0</td>\n",
       "      <td>20.0</td>\n",
       "      <td>361</td>\n",
       "      <td>600</td>\n",
       "      <td>29</td>\n",
       "      <td>7</td>\n",
       "      <td>2</td>\n",
       "      <td>1</td>\n",
       "      <td>1.84</td>\n",
       "      <td>0.69</td>\n",
       "      <td>1.2650</td>\n",
       "      <td>1.84</td>\n",
       "    </tr>\n",
       "    <tr>\n",
       "      <th>3</th>\n",
       "      <td>AndyWoodhull</td>\n",
       "      <td>47.0</td>\n",
       "      <td>48.0</td>\n",
       "      <td>1</td>\n",
       "      <td>21.0</td>\n",
       "      <td>47.0</td>\n",
       "      <td>631</td>\n",
       "      <td>1410</td>\n",
       "      <td>97</td>\n",
       "      <td>21</td>\n",
       "      <td>4</td>\n",
       "      <td>3</td>\n",
       "      <td>1.64</td>\n",
       "      <td>0.42</td>\n",
       "      <td>0.8875</td>\n",
       "      <td>1.64</td>\n",
       "    </tr>\n",
       "    <tr>\n",
       "      <th>4</th>\n",
       "      <td>AndyWoodhull</td>\n",
       "      <td>57.0</td>\n",
       "      <td>62.0</td>\n",
       "      <td>1</td>\n",
       "      <td>48.0</td>\n",
       "      <td>57.0</td>\n",
       "      <td>1441</td>\n",
       "      <td>1710</td>\n",
       "      <td>33</td>\n",
       "      <td>9</td>\n",
       "      <td>2</td>\n",
       "      <td>1</td>\n",
       "      <td>1.00</td>\n",
       "      <td>0.70</td>\n",
       "      <td>0.8500</td>\n",
       "      <td>1.00</td>\n",
       "    </tr>\n",
       "  </tbody>\n",
       "</table>\n",
       "</div>"
      ],
      "text/plain": [
       "          video  laughter_start  laughter_end  laughter_value  \\\n",
       "0  AndyWoodhull             5.0           8.0               1   \n",
       "1  AndyWoodhull            10.0          12.0               1   \n",
       "2  AndyWoodhull            20.0          21.0               1   \n",
       "3  AndyWoodhull            47.0          48.0               1   \n",
       "4  AndyWoodhull            57.0          62.0               1   \n",
       "\n",
       "   start_segment_s  end_segment_s  start_segment_frame  end_segment_frame  \\\n",
       "0              0.0            5.0                    1                150   \n",
       "1              8.0           10.0                  241                300   \n",
       "2             12.0           20.0                  361                600   \n",
       "3             21.0           47.0                  631               1410   \n",
       "4             48.0           57.0                 1441               1710   \n",
       "\n",
       "   number_of_words   number_of_elongated_words  \\\n",
       "0               13                           6   \n",
       "1                4                           1   \n",
       "2               29                           7   \n",
       "3               97                          21   \n",
       "4               33                           9   \n",
       "\n",
       "    number_of_continuous_segments   number_of_pauses   max_pause_time   \\\n",
       "0                               2                  1              1.70   \n",
       "1                               0                  0              0.00   \n",
       "2                               2                  1              1.84   \n",
       "3                               4                  3              1.64   \n",
       "4                               2                  1              1.00   \n",
       "\n",
       "    min_pause_time   avg_pause_time   last_pause_length  \n",
       "0             0.84           1.2700                1.70  \n",
       "1             0.00           0.0000                0.00  \n",
       "2             0.69           1.2650                1.84  \n",
       "3             0.42           0.8875                1.64  \n",
       "4             0.70           0.8500                1.00  "
      ]
     },
     "execution_count": 4,
     "metadata": {},
     "output_type": "execute_result"
    }
   ],
   "source": [
    "transcript_input_df.head()"
   ]
  },
  {
   "cell_type": "code",
   "execution_count": 9,
   "metadata": {
    "collapsed": false
   },
   "outputs": [],
   "source": [
    "transcript_video = list(transcript_input_df.video)\n",
    "transcript_laughter_start = list(transcript_input_df.laughter_start)\n",
    "transcript_video_laughter = zip(transcript_video,transcript_laughter_start)\n",
    "a = set(list(transcript_video_laughter))\n",
    "\n",
    "opensmile_video = list(opensmile_std_input_df.video)\n",
    "opensmile_laughter_start = list(opensmile_std_input_df.laughter_start)\n",
    "opensmile_video_laughter = zip(opensmile_video,opensmile_laughter_start)\n",
    "b = set(list(opensmile_video_laughter))\n",
    "\n",
    "#a - b"
   ]
  },
  {
   "cell_type": "code",
   "execution_count": 10,
   "metadata": {
    "collapsed": false
   },
   "outputs": [
    {
     "data": {
      "text/plain": [
       "Index(['video', 'laughter_start', 'laughter_end', 'laughter_value',\n",
       "       'start_segment_s', 'end_segment_s', 'start_segment_frame',\n",
       "       'end_segment_frame', 'number_of_words', ' number_of_elongated_words',\n",
       "       ' number_of_continuous_segments', ' number_of_pauses',\n",
       "       ' max_pause_time ', ' min_pause_time', ' avg_pause_time',\n",
       "       ' last_pause_length'],\n",
       "      dtype='object')"
      ]
     },
     "execution_count": 10,
     "metadata": {},
     "output_type": "execute_result"
    }
   ],
   "source": [
    "transcript_input_df.columns"
   ]
  },
  {
   "cell_type": "code",
   "execution_count": 11,
   "metadata": {
    "collapsed": true
   },
   "outputs": [],
   "source": [
    "transcript_features = ['number_of_words', ' number_of_elongated_words',' number_of_continuous_segments',\n",
    "                       ' number_of_pauses', ' max_pause_time ', ' min_pause_time', ' avg_pause_time',\n",
    "               ' last_pause_length']"
   ]
  },
  {
   "cell_type": "code",
   "execution_count": 13,
   "metadata": {
    "collapsed": false
   },
   "outputs": [],
   "source": [
    "transcript_X = transcript_input_df[transcript_features]"
   ]
  },
  {
   "cell_type": "code",
   "execution_count": 14,
   "metadata": {
    "collapsed": true
   },
   "outputs": [],
   "source": [
    "transcript_X.columns = ['number_of_words', 'number_of_elongated_words','number_of_continuous_segments',\n",
    "                       'number_of_pauses', ' max_pause_time ', 'min_pause_time', 'avg_pause_time',\n",
    "               'last_pause_length']"
   ]
  },
  {
   "cell_type": "code",
   "execution_count": 15,
   "metadata": {
    "collapsed": false
   },
   "outputs": [
    {
     "data": {
      "text/html": [
       "<div>\n",
       "<table border=\"1\" class=\"dataframe\">\n",
       "  <thead>\n",
       "    <tr style=\"text-align: right;\">\n",
       "      <th></th>\n",
       "      <th>number_of_words</th>\n",
       "      <th>number_of_elongated_words</th>\n",
       "      <th>number_of_continuous_segments</th>\n",
       "      <th>number_of_pauses</th>\n",
       "      <th>max_pause_time</th>\n",
       "      <th>min_pause_time</th>\n",
       "      <th>avg_pause_time</th>\n",
       "      <th>last_pause_length</th>\n",
       "    </tr>\n",
       "  </thead>\n",
       "  <tbody>\n",
       "    <tr>\n",
       "      <th>0</th>\n",
       "      <td>13</td>\n",
       "      <td>6</td>\n",
       "      <td>2</td>\n",
       "      <td>1</td>\n",
       "      <td>1.70</td>\n",
       "      <td>0.84</td>\n",
       "      <td>1.2700</td>\n",
       "      <td>1.70</td>\n",
       "    </tr>\n",
       "    <tr>\n",
       "      <th>1</th>\n",
       "      <td>4</td>\n",
       "      <td>1</td>\n",
       "      <td>0</td>\n",
       "      <td>0</td>\n",
       "      <td>0.00</td>\n",
       "      <td>0.00</td>\n",
       "      <td>0.0000</td>\n",
       "      <td>0.00</td>\n",
       "    </tr>\n",
       "    <tr>\n",
       "      <th>2</th>\n",
       "      <td>29</td>\n",
       "      <td>7</td>\n",
       "      <td>2</td>\n",
       "      <td>1</td>\n",
       "      <td>1.84</td>\n",
       "      <td>0.69</td>\n",
       "      <td>1.2650</td>\n",
       "      <td>1.84</td>\n",
       "    </tr>\n",
       "    <tr>\n",
       "      <th>3</th>\n",
       "      <td>97</td>\n",
       "      <td>21</td>\n",
       "      <td>4</td>\n",
       "      <td>3</td>\n",
       "      <td>1.64</td>\n",
       "      <td>0.42</td>\n",
       "      <td>0.8875</td>\n",
       "      <td>1.64</td>\n",
       "    </tr>\n",
       "    <tr>\n",
       "      <th>4</th>\n",
       "      <td>33</td>\n",
       "      <td>9</td>\n",
       "      <td>2</td>\n",
       "      <td>1</td>\n",
       "      <td>1.00</td>\n",
       "      <td>0.70</td>\n",
       "      <td>0.8500</td>\n",
       "      <td>1.00</td>\n",
       "    </tr>\n",
       "  </tbody>\n",
       "</table>\n",
       "</div>"
      ],
      "text/plain": [
       "   number_of_words  number_of_elongated_words  number_of_continuous_segments  \\\n",
       "0               13                          6                              2   \n",
       "1                4                          1                              0   \n",
       "2               29                          7                              2   \n",
       "3               97                         21                              4   \n",
       "4               33                          9                              2   \n",
       "\n",
       "   number_of_pauses   max_pause_time   min_pause_time  avg_pause_time  \\\n",
       "0                 1              1.70            0.84          1.2700   \n",
       "1                 0              0.00            0.00          0.0000   \n",
       "2                 1              1.84            0.69          1.2650   \n",
       "3                 3              1.64            0.42          0.8875   \n",
       "4                 1              1.00            0.70          0.8500   \n",
       "\n",
       "   last_pause_length  \n",
       "0               1.70  \n",
       "1               0.00  \n",
       "2               1.84  \n",
       "3               1.64  \n",
       "4               1.00  "
      ]
     },
     "execution_count": 15,
     "metadata": {},
     "output_type": "execute_result"
    }
   ],
   "source": [
    "transcript_X"
   ]
  },
  {
   "cell_type": "code",
   "execution_count": 17,
   "metadata": {
    "collapsed": true
   },
   "outputs": [],
   "source": [
    "transcript_y = transcript_input_df.laughter_value"
   ]
  },
  {
   "cell_type": "code",
   "execution_count": 37,
   "metadata": {
    "collapsed": false
   },
   "outputs": [
    {
     "name": "stdout",
     "output_type": "stream",
     "text": [
      "experiment :  0\n",
      "Fold :  1\n",
      "Fold :  2\n",
      "Fold :  3\n",
      "Fold :  4\n",
      "max_c :  10000.0\n",
      "max_validation_accuracy :  0.210997032165\n",
      "Test Accuracy_Score 0.229927007299\n",
      "**********\n",
      "experiment :  1\n",
      "Fold :  1\n",
      "Fold :  2\n",
      "Fold :  3\n",
      "Fold :  4\n",
      "max_c :  10000.0\n",
      "max_validation_accuracy :  0.229285313227\n",
      "Test Accuracy_Score 0.193430656934\n",
      "**********\n",
      "experiment :  2\n",
      "Fold :  1\n",
      "Fold :  2\n",
      "Fold :  3\n",
      "Fold :  4\n",
      "max_c :  10000.0\n",
      "max_validation_accuracy :  0.252138980241\n",
      "Test Accuracy_Score 0.29197080292\n",
      "**********\n",
      "experiment :  3\n",
      "Fold :  1\n",
      "Fold :  2\n",
      "Fold :  3\n",
      "Fold :  4\n",
      "max_c :  10000.0\n",
      "max_validation_accuracy :  0.242069062325\n",
      "Test Accuracy_Score 0.361313868613\n",
      "**********\n",
      "experiment :  4\n",
      "Fold :  1\n",
      "Fold :  2\n",
      "Fold :  3\n",
      "Fold :  4\n",
      "max_c :  10000.0\n",
      "max_validation_accuracy :  0.263686131387\n",
      "Test Accuracy_Score 0.40293040293\n",
      "**********\n"
     ]
    }
   ],
   "source": [
    "kf = KFold(n_splits=5)\n",
    "kf.get_n_splits(transcript_X)\n",
    "\n",
    "data = np.array(transcript_X)\n",
    "output = np.array(transcript_y)\n",
    "\n",
    "experiment = 0 \n",
    "\n",
    "\n",
    "\n",
    "for train_index, test_index in kf.split(transcript_X):\n",
    "    \n",
    "    print('experiment : ', experiment)\n",
    "    \n",
    "    experiment = experiment + 1 \n",
    "    \n",
    "    train_data = data[train_index]\n",
    "    train_output = output[train_index]\n",
    "    \n",
    "    kf1 = KFold(n_splits=4)\n",
    "    kf1.get_n_splits(train_data)\n",
    "    \n",
    "    fold = 1 \n",
    "    \n",
    "    max_accuracy = 0 \n",
    "    c_max_accuracy = 0 \n",
    "    \n",
    "    C_Accuracies  = {}\n",
    "    \n",
    "    for tr_index, validation_index in kf1.split(train_data):\n",
    "        \n",
    "        print('Fold : ', fold)\n",
    "        fold = fold + 1\n",
    "        \n",
    "        tr_data = train_data[tr_index]\n",
    "        tr_output = output[tr_index]\n",
    "        \n",
    "        validation_data = train_data[validation_index]\n",
    "        validation_output = output[validation_index]\n",
    "        \n",
    "        \n",
    "        C_list = [1e0,1e1,1e2,1e3,1e4,1e5]\n",
    "        \n",
    "        for c in C_list:\n",
    "            logreg = linear_model.LogisticRegression(C=1e5)\n",
    "        \n",
    "            logreg.fit(tr_data, tr_output )\n",
    "\n",
    "            pred = logreg.predict(validation_data)\n",
    "            \n",
    "            accuracy = accuracy_score(pred,validation_output)\n",
    "            #print('c : ',c)\n",
    "            #print('Accuracy_Score : ', accuracy )\n",
    "            \n",
    "            if c in C_Accuracies:\n",
    "                C_Accuracies[c].append(accuracy)\n",
    "            else:\n",
    "                C_Accuracies[c] = [accuracy]\n",
    "            \n",
    "\n",
    "    for c in C_Accuracies:\n",
    "        accuracy = np.mean(C_Accuracies[c])\n",
    "        \n",
    "        if max_accuracy < accuracy:\n",
    "            c_max_accuracy = c\n",
    "            max_accuracy = accuracy\n",
    "            \n",
    "    test_data = data[test_index]\n",
    "    test_output = output[test_index]\n",
    "    \n",
    "    logreg = linear_model.LogisticRegression(C=c_max_accuracy)\n",
    "    \n",
    "    logreg.fit(train_data, train_output)\n",
    "    \n",
    "    pred = logreg.predict(test_data)\n",
    "    \n",
    "    print(\"max_c : \", c_max_accuracy)\n",
    "    print(\"max_validation_accuracy : \" , max_accuracy)\n",
    "    \n",
    "    print('Test Accuracy_Score', accuracy_score(pred,test_output))\n",
    "    \n",
    "    print('*'*10)\n"
   ]
  },
  {
   "cell_type": "code",
   "execution_count": 47,
   "metadata": {
    "collapsed": false
   },
   "outputs": [],
   "source": [
    "data = np.array(transcript_input_df[transcript_features])\n",
    "output = np.array(transcript_input_df.laughter_value)\n"
   ]
  },
  {
   "cell_type": "code",
   "execution_count": 53,
   "metadata": {
    "collapsed": false
   },
   "outputs": [],
   "source": [
    "dtrain = xgb.DMatrix( data[330:],output[330:])\n",
    "dtest = xgb.DMatrix(data[:330],output[:330])"
   ]
  },
  {
   "cell_type": "code",
   "execution_count": 70,
   "metadata": {
    "collapsed": true
   },
   "outputs": [],
   "source": [
    "params  = {'objective': 'reg:logistic',\n",
    "          'num_class': 3\n",
    "          } \n",
    "param['nthread'] = 4\n",
    "param['eval_metric'] = 'auc'"
   ]
  },
  {
   "cell_type": "code",
   "execution_count": 71,
   "metadata": {
    "collapsed": false
   },
   "outputs": [],
   "source": [
    "#param['eval_metric'] = ['auc', 'ams@0']\n",
    "\n",
    "# alternatively:\n",
    "plst = param.items()\n",
    "#plst = plst + [('eval_metric', 'ams@0')]"
   ]
  },
  {
   "cell_type": "code",
   "execution_count": 72,
   "metadata": {
    "collapsed": false
   },
   "outputs": [],
   "source": [
    "evallist  = [(dtest,'eval'), (dtrain,'train')]"
   ]
  },
  {
   "cell_type": "code",
   "execution_count": 73,
   "metadata": {
    "collapsed": false
   },
   "outputs": [
    {
     "ename": "XGBoostError",
     "evalue": "b'[19:07:48] src/objective/regression_obj.cc:108: label must be in [0,1] for logistic regression'",
     "output_type": "error",
     "traceback": [
      "\u001b[1;31m---------------------------------------------------------------------------\u001b[0m",
      "\u001b[1;31mXGBoostError\u001b[0m                              Traceback (most recent call last)",
      "\u001b[1;32m<ipython-input-73-98b1512f6cd0>\u001b[0m in \u001b[0;36m<module>\u001b[1;34m()\u001b[0m\n\u001b[0;32m      1\u001b[0m \u001b[0mnum_round\u001b[0m \u001b[1;33m=\u001b[0m \u001b[1;36m10\u001b[0m\u001b[1;33m\u001b[0m\u001b[0m\n\u001b[1;32m----> 2\u001b[1;33m \u001b[0mbst\u001b[0m \u001b[1;33m=\u001b[0m \u001b[0mxgb\u001b[0m\u001b[1;33m.\u001b[0m\u001b[0mtrain\u001b[0m\u001b[1;33m(\u001b[0m \u001b[0mplst\u001b[0m\u001b[1;33m,\u001b[0m \u001b[0mdtrain\u001b[0m\u001b[1;33m,\u001b[0m \u001b[0mnum_round\u001b[0m\u001b[1;33m,\u001b[0m \u001b[0mevallist\u001b[0m \u001b[1;33m)\u001b[0m\u001b[1;33m\u001b[0m\u001b[0m\n\u001b[0m",
      "\u001b[1;32m/home/nandan/anaconda3/lib/python3.5/site-packages/xgboost-0.6-py3.5.egg/xgboost/training.py\u001b[0m in \u001b[0;36mtrain\u001b[1;34m(params, dtrain, num_boost_round, evals, obj, feval, maximize, early_stopping_rounds, evals_result, verbose_eval, learning_rates, xgb_model, callbacks)\u001b[0m\n\u001b[0;32m    201\u001b[0m                            \u001b[0mevals\u001b[0m\u001b[1;33m=\u001b[0m\u001b[0mevals\u001b[0m\u001b[1;33m,\u001b[0m\u001b[1;33m\u001b[0m\u001b[0m\n\u001b[0;32m    202\u001b[0m                            \u001b[0mobj\u001b[0m\u001b[1;33m=\u001b[0m\u001b[0mobj\u001b[0m\u001b[1;33m,\u001b[0m \u001b[0mfeval\u001b[0m\u001b[1;33m=\u001b[0m\u001b[0mfeval\u001b[0m\u001b[1;33m,\u001b[0m\u001b[1;33m\u001b[0m\u001b[0m\n\u001b[1;32m--> 203\u001b[1;33m                            xgb_model=xgb_model, callbacks=callbacks)\n\u001b[0m\u001b[0;32m    204\u001b[0m \u001b[1;33m\u001b[0m\u001b[0m\n\u001b[0;32m    205\u001b[0m \u001b[1;33m\u001b[0m\u001b[0m\n",
      "\u001b[1;32m/home/nandan/anaconda3/lib/python3.5/site-packages/xgboost-0.6-py3.5.egg/xgboost/training.py\u001b[0m in \u001b[0;36m_train_internal\u001b[1;34m(params, dtrain, num_boost_round, evals, obj, feval, xgb_model, callbacks)\u001b[0m\n\u001b[0;32m     72\u001b[0m         \u001b[1;31m# Skip the first update if it is a recovery step.\u001b[0m\u001b[1;33m\u001b[0m\u001b[1;33m\u001b[0m\u001b[0m\n\u001b[0;32m     73\u001b[0m         \u001b[1;32mif\u001b[0m \u001b[0mversion\u001b[0m \u001b[1;33m%\u001b[0m \u001b[1;36m2\u001b[0m \u001b[1;33m==\u001b[0m \u001b[1;36m0\u001b[0m\u001b[1;33m:\u001b[0m\u001b[1;33m\u001b[0m\u001b[0m\n\u001b[1;32m---> 74\u001b[1;33m             \u001b[0mbst\u001b[0m\u001b[1;33m.\u001b[0m\u001b[0mupdate\u001b[0m\u001b[1;33m(\u001b[0m\u001b[0mdtrain\u001b[0m\u001b[1;33m,\u001b[0m \u001b[0mi\u001b[0m\u001b[1;33m,\u001b[0m \u001b[0mobj\u001b[0m\u001b[1;33m)\u001b[0m\u001b[1;33m\u001b[0m\u001b[0m\n\u001b[0m\u001b[0;32m     75\u001b[0m             \u001b[0mbst\u001b[0m\u001b[1;33m.\u001b[0m\u001b[0msave_rabit_checkpoint\u001b[0m\u001b[1;33m(\u001b[0m\u001b[1;33m)\u001b[0m\u001b[1;33m\u001b[0m\u001b[0m\n\u001b[0;32m     76\u001b[0m             \u001b[0mversion\u001b[0m \u001b[1;33m+=\u001b[0m \u001b[1;36m1\u001b[0m\u001b[1;33m\u001b[0m\u001b[0m\n",
      "\u001b[1;32m/home/nandan/anaconda3/lib/python3.5/site-packages/xgboost-0.6-py3.5.egg/xgboost/core.py\u001b[0m in \u001b[0;36mupdate\u001b[1;34m(self, dtrain, iteration, fobj)\u001b[0m\n\u001b[0;32m    817\u001b[0m \u001b[1;33m\u001b[0m\u001b[0m\n\u001b[0;32m    818\u001b[0m         \u001b[1;32mif\u001b[0m \u001b[0mfobj\u001b[0m \u001b[1;32mis\u001b[0m \u001b[1;32mNone\u001b[0m\u001b[1;33m:\u001b[0m\u001b[1;33m\u001b[0m\u001b[0m\n\u001b[1;32m--> 819\u001b[1;33m             \u001b[0m_check_call\u001b[0m\u001b[1;33m(\u001b[0m\u001b[0m_LIB\u001b[0m\u001b[1;33m.\u001b[0m\u001b[0mXGBoosterUpdateOneIter\u001b[0m\u001b[1;33m(\u001b[0m\u001b[0mself\u001b[0m\u001b[1;33m.\u001b[0m\u001b[0mhandle\u001b[0m\u001b[1;33m,\u001b[0m \u001b[0miteration\u001b[0m\u001b[1;33m,\u001b[0m \u001b[0mdtrain\u001b[0m\u001b[1;33m.\u001b[0m\u001b[0mhandle\u001b[0m\u001b[1;33m)\u001b[0m\u001b[1;33m)\u001b[0m\u001b[1;33m\u001b[0m\u001b[0m\n\u001b[0m\u001b[0;32m    820\u001b[0m         \u001b[1;32melse\u001b[0m\u001b[1;33m:\u001b[0m\u001b[1;33m\u001b[0m\u001b[0m\n\u001b[0;32m    821\u001b[0m             \u001b[0mpred\u001b[0m \u001b[1;33m=\u001b[0m \u001b[0mself\u001b[0m\u001b[1;33m.\u001b[0m\u001b[0mpredict\u001b[0m\u001b[1;33m(\u001b[0m\u001b[0mdtrain\u001b[0m\u001b[1;33m)\u001b[0m\u001b[1;33m\u001b[0m\u001b[0m\n",
      "\u001b[1;32m/home/nandan/anaconda3/lib/python3.5/site-packages/xgboost-0.6-py3.5.egg/xgboost/core.py\u001b[0m in \u001b[0;36m_check_call\u001b[1;34m(ret)\u001b[0m\n\u001b[0;32m    125\u001b[0m     \"\"\"\n\u001b[0;32m    126\u001b[0m     \u001b[1;32mif\u001b[0m \u001b[0mret\u001b[0m \u001b[1;33m!=\u001b[0m \u001b[1;36m0\u001b[0m\u001b[1;33m:\u001b[0m\u001b[1;33m\u001b[0m\u001b[0m\n\u001b[1;32m--> 127\u001b[1;33m         \u001b[1;32mraise\u001b[0m \u001b[0mXGBoostError\u001b[0m\u001b[1;33m(\u001b[0m\u001b[0m_LIB\u001b[0m\u001b[1;33m.\u001b[0m\u001b[0mXGBGetLastError\u001b[0m\u001b[1;33m(\u001b[0m\u001b[1;33m)\u001b[0m\u001b[1;33m)\u001b[0m\u001b[1;33m\u001b[0m\u001b[0m\n\u001b[0m\u001b[0;32m    128\u001b[0m \u001b[1;33m\u001b[0m\u001b[0m\n\u001b[0;32m    129\u001b[0m \u001b[1;33m\u001b[0m\u001b[0m\n",
      "\u001b[1;31mXGBoostError\u001b[0m: b'[19:07:48] src/objective/regression_obj.cc:108: label must be in [0,1] for logistic regression'"
     ]
    }
   ],
   "source": [
    "num_round = 10\n",
    "bst = xgb.train( plst, dtrain, num_round, evallist )"
   ]
  },
  {
   "cell_type": "code",
   "execution_count": 75,
   "metadata": {
    "collapsed": false
   },
   "outputs": [
    {
     "data": {
      "text/plain": [
       "{0, 1, 2}"
      ]
     },
     "execution_count": 75,
     "metadata": {},
     "output_type": "execute_result"
    }
   ],
   "source": []
  },
  {
   "cell_type": "code",
   "execution_count": null,
   "metadata": {
    "collapsed": true
   },
   "outputs": [],
   "source": []
  }
 ],
 "metadata": {
  "kernelspec": {
   "display_name": "Python [Root]",
   "language": "python",
   "name": "Python [Root]"
  },
  "language_info": {
   "codemirror_mode": {
    "name": "ipython",
    "version": 3
   },
   "file_extension": ".py",
   "mimetype": "text/x-python",
   "name": "python",
   "nbconvert_exporter": "python",
   "pygments_lexer": "ipython3",
   "version": "3.5.2"
  }
 },
 "nbformat": 4,
 "nbformat_minor": 0
}
